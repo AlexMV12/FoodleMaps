{
 "cells": [
  {
   "cell_type": "markdown",
   "metadata": {},
   "source": [
    "# Foodle Maps"
   ]
  },
  {
   "cell_type": "markdown",
   "metadata": {},
   "source": [
    "This notebook gives practical examples of the potentiality of Foodle Maps.\n",
    "First, load the necessary packages to perform SPARQL queries:"
   ]
  },
  {
   "cell_type": "code",
   "execution_count": 111,
   "metadata": {},
   "outputs": [],
   "source": [
    "from SPARQLWrapper import SPARQLWrapper, JSON, DIGEST, POST\n",
    "\n",
    "sparql = SPARQLWrapper(\"https://sparql.alexmv12.xyz/FoodleMaps\")"
   ]
  },
  {
   "cell_type": "markdown",
   "metadata": {},
   "source": [
    "Then, we can start with a simple query: show all the restaurants in the KB."
   ]
  },
  {
   "cell_type": "code",
   "execution_count": 112,
   "metadata": {},
   "outputs": [
    {
     "name": "stdout",
     "output_type": "stream",
     "text": [
      "https://alexmv12.github.io/FoodleMaps/#La_Cantinetta_caprese\n",
      "https://alexmv12.github.io/FoodleMaps/#Tavernacolo\n",
      "https://alexmv12.github.io/FoodleMaps/#Trattoria_Sole_Milano\n",
      "https://alexmv12.github.io/FoodleMaps/#Trattoria_dell_orsa\n"
     ]
    }
   ],
   "source": [
    "sparql.setQuery(\"\"\"\n",
    "    PREFIX schema: <http://schema.org/>\n",
    "    \n",
    "    SELECT ?restaurant \n",
    "    WHERE { ?restaurant a schema:FoodEstablishment  }\n",
    "\"\"\")\n",
    "\n",
    "sparql.setReturnFormat(JSON)\n",
    "results = sparql.query().convert()\n",
    "\n",
    "for result in results[\"results\"][\"bindings\"]:\n",
    "    print(result[\"restaurant\"][\"value\"])"
   ]
  },
  {
   "cell_type": "markdown",
   "metadata": {},
   "source": [
    "... or, we want to see some of the available dishes."
   ]
  },
  {
   "cell_type": "code",
   "execution_count": 8,
   "metadata": {},
   "outputs": [
    {
     "name": "stdout",
     "output_type": "stream",
     "text": [
      "https://alexmv12.github.io/FoodleMaps/#Pasta_alla_carbonara\n",
      "https://alexmv12.github.io/FoodleMaps/#Baba_al_rum\n",
      "https://alexmv12.github.io/FoodleMaps/#Bruschettone_gorgonzola_noci_e_salame\n",
      "https://alexmv12.github.io/FoodleMaps/#Caprese_di_bufala\n",
      "https://alexmv12.github.io/FoodleMaps/#Cotoletta_alla_bolognese\n"
     ]
    }
   ],
   "source": [
    "sparql.setQuery(\"\"\"\n",
    "    PREFIX schema: <http://schema.org/>\n",
    "    \n",
    "    SELECT ?dish \n",
    "    WHERE { ?dish a schema:MenuItem  }\n",
    "    LIMIT 5\n",
    "\"\"\")\n",
    "\n",
    "sparql.setReturnFormat(JSON)\n",
    "results = sparql.query().convert()\n",
    "\n",
    "for result in results[\"results\"][\"bindings\"]:\n",
    "    print(result[\"dish\"][\"value\"])"
   ]
  },
  {
   "cell_type": "markdown",
   "metadata": {},
   "source": [
    "## Examples"
   ]
  },
  {
   "cell_type": "markdown",
   "metadata": {},
   "source": [
    "- Show me all the restaurants serving dishes with tomatoes.\n",
    "- Find the nearest restaurant which serves at least a “light” dish.\n",
    "- Show me a restaurant which does not serve any dish with eggs.\n",
    "- Show me a restaurant which serves a dish which can be prepared in less than 5 minutes."
   ]
  },
  {
   "cell_type": "markdown",
   "metadata": {},
   "source": [
    "### Dishes with tomatoes\n",
    "Let's find all restaurants which serve dishes which contain fresh tomatoes."
   ]
  },
  {
   "cell_type": "code",
   "execution_count": 113,
   "metadata": {},
   "outputs": [
    {
     "name": "stdout",
     "output_type": "stream",
     "text": [
      "https://alexmv12.github.io/FoodleMaps/#La_Cantinetta_caprese\n",
      "https://alexmv12.github.io/FoodleMaps/#Tavernacolo\n",
      "https://alexmv12.github.io/FoodleMaps/#Trattoria_Sole_Milano\n"
     ]
    }
   ],
   "source": [
    "sparql.setQuery(\"\"\"\n",
    "    PREFIX schema: <http://schema.org/>\n",
    "    PREFIX foodlemaps: <https://alexmv12.github.io/FoodleMaps/#>\n",
    "    \n",
    "    SELECT ?restaurant\n",
    "    WHERE { ?restaurant schema:hasMenu ?menu.\n",
    "            ?menu foodlemaps:servesRecipe ?recipe.\n",
    "            ?recipe foodlemaps:hasIngredient foodlemaps:Tomato .}\n",
    "\"\"\")\n",
    "\n",
    "sparql.setReturnFormat(JSON)\n",
    "results = sparql.query().convert()\n",
    "\n",
    "for result in results[\"results\"][\"bindings\"]:\n",
    "    print(result[\"restaurant\"][\"value\"])"
   ]
  },
  {
   "cell_type": "markdown",
   "metadata": {},
   "source": [
    "### Fresh dishes for summer"
   ]
  },
  {
   "cell_type": "markdown",
   "metadata": {},
   "source": [
    "Or, maybe we want a \"fresh\" dish for this hot summer. What are some dishes with that property?"
   ]
  },
  {
   "cell_type": "code",
   "execution_count": 11,
   "metadata": {},
   "outputs": [
    {
     "name": "stdout",
     "output_type": "stream",
     "text": [
      "https://alexmv12.github.io/FoodleMaps/#Insalata_greca\n",
      "https://alexmv12.github.io/FoodleMaps/#Vitello_tonnato\n"
     ]
    }
   ],
   "source": [
    "sparql.setQuery(\"\"\"\n",
    "    PREFIX schema: <http://schema.org/>\n",
    "    PREFIX foodlemaps: <https://alexmv12.github.io/FoodleMaps/#>\n",
    "    \n",
    "    SELECT ?dish\n",
    "    WHERE { ?dish foodlemaps:hasCharacteristic foodlemaps:Fresh}\n",
    "\"\"\")\n",
    "\n",
    "sparql.setReturnFormat(JSON)\n",
    "results = sparql.query().convert()\n",
    "\n",
    "for result in results[\"results\"][\"bindings\"]:\n",
    "    print(result[\"dish\"][\"value\"])"
   ]
  },
  {
   "cell_type": "markdown",
   "metadata": {},
   "source": [
    "Great! Which restaurants serve \"Insalata greca\"?"
   ]
  },
  {
   "cell_type": "code",
   "execution_count": 13,
   "metadata": {},
   "outputs": [
    {
     "name": "stdout",
     "output_type": "stream",
     "text": [
      "https://alexmv12.github.io/FoodleMaps/#Tavernacolo\n"
     ]
    }
   ],
   "source": [
    "sparql.setQuery(\"\"\"\n",
    "    PREFIX schema: <http://schema.org/>\n",
    "    PREFIX foodlemaps: <https://alexmv12.github.io/FoodleMaps/#>\n",
    "    \n",
    "    SELECT ?restaurant\n",
    "    WHERE { ?restaurant schema:hasMenu ?menu.\n",
    "            ?menu foodlemaps:servesRecipe ?recipe.\n",
    "            foodlemaps:Insalata_greca foodlemaps:hasRecipe ?recipe .}\n",
    "\"\"\")\n",
    "\n",
    "sparql.setReturnFormat(JSON)\n",
    "results = sparql.query().convert()\n",
    "\n",
    "for result in results[\"results\"][\"bindings\"]:\n",
    "    print(result[\"restaurant\"][\"value\"])"
   ]
  },
  {
   "cell_type": "markdown",
   "metadata": {},
   "source": [
    "We'd like the address and telephone number of \"Tavernacolo\", so we could book a table."
   ]
  },
  {
   "cell_type": "code",
   "execution_count": 32,
   "metadata": {},
   "outputs": [
    {
     "name": "stdout",
     "output_type": "stream",
     "text": [
      "Via Bassini, 45, Milano, Italy\n",
      "02 1234 4321\n"
     ]
    }
   ],
   "source": [
    "sparql.setQuery(\"\"\"\n",
    "    PREFIX schema: <http://schema.org/>\n",
    "    PREFIX foodlemaps: <https://alexmv12.github.io/FoodleMaps/#>\n",
    "    \n",
    "    SELECT ?address ?telephoneNumber\n",
    "    WHERE { foodlemaps:Tavernacolo schema:address ?address ;\n",
    "        \t\t\t               schema:telephone ?telephoneNumber .\n",
    "}\n",
    "\"\"\")\n",
    "\n",
    "sparql.setReturnFormat(JSON)\n",
    "results = sparql.query().convert()\n",
    "\n",
    "for result in results[\"results\"][\"bindings\"]:\n",
    "    print(result[\"address\"][\"value\"])\n",
    "    print(result[\"telephoneNumber\"][\"value\"])"
   ]
  },
  {
   "cell_type": "markdown",
   "metadata": {},
   "source": [
    "### Eggs-free restaurants\n",
    "We want to find restaurants which do not serve eggs at all. Maybe we are allergic, so we prefere to not risk any contamination."
   ]
  },
  {
   "cell_type": "code",
   "execution_count": 40,
   "metadata": {},
   "outputs": [
    {
     "name": "stdout",
     "output_type": "stream",
     "text": [
      "https://alexmv12.github.io/FoodleMaps/#Tavernacolo\n"
     ]
    }
   ],
   "source": [
    "sparql.setQuery(\"\"\"\n",
    "    PREFIX schema: <http://schema.org/>\n",
    "    PREFIX foodlemaps: <https://alexmv12.github.io/FoodleMaps/#>\n",
    "    \n",
    "    SELECT DISTINCT ?restaurant\n",
    "    WHERE { \n",
    "            ?restaurant a schema:FoodEstablishment\n",
    "            \n",
    "            FILTER NOT EXISTS { \n",
    "                ?restaurant schema:hasMenu ?menu.\n",
    "                ?menu foodlemaps:servesRecipe ?recipe.\n",
    "                ?recipe foodlemaps:hasIngredient foodlemaps:Egg \n",
    "            }\n",
    "    }\n",
    "\"\"\")\n",
    "\n",
    "sparql.setReturnFormat(JSON)\n",
    "results = sparql.query().convert()\n",
    "\n",
    "for result in results[\"results\"][\"bindings\"]:\n",
    "    print(result[\"restaurant\"][\"value\"])"
   ]
  },
  {
   "cell_type": "markdown",
   "metadata": {},
   "source": [
    "As a counter-proof, we can list all the restaurants which serve dishes with eggs:"
   ]
  },
  {
   "cell_type": "code",
   "execution_count": 43,
   "metadata": {},
   "outputs": [
    {
     "name": "stdout",
     "output_type": "stream",
     "text": [
      "https://alexmv12.github.io/FoodleMaps/#La_Cantinetta_caprese -> https://alexmv12.github.io/FoodleMaps/#Baba_al_rum\n",
      "https://alexmv12.github.io/FoodleMaps/#Trattoria_dell_orsa -> https://alexmv12.github.io/FoodleMaps/#Cotoletta_alla_bolognese\n",
      "https://alexmv12.github.io/FoodleMaps/#Trattoria_dell_orsa -> https://alexmv12.github.io/FoodleMaps/#Tortellini_in_brodo\n",
      "https://alexmv12.github.io/FoodleMaps/#Trattoria_Sole_Milano -> https://alexmv12.github.io/FoodleMaps/#Pasta_alla_carbonara\n",
      "https://alexmv12.github.io/FoodleMaps/#Trattoria_Sole_Milano -> https://alexmv12.github.io/FoodleMaps/#Tiramisu\n",
      "https://alexmv12.github.io/FoodleMaps/#La_Cantinetta_caprese -> https://alexmv12.github.io/FoodleMaps/#Vitello_tonnato\n"
     ]
    }
   ],
   "source": [
    "sparql.setQuery(\"\"\"\n",
    "    PREFIX schema: <http://schema.org/>\n",
    "    PREFIX foodlemaps: <https://alexmv12.github.io/FoodleMaps/#>\n",
    "    \n",
    "    SELECT ?restaurant ?menuItem\n",
    "    WHERE { ?restaurant schema:hasMenu ?menu.\n",
    "            ?menu foodlemaps:servesRecipe ?recipe.\n",
    "            ?recipe foodlemaps:hasIngredient foodlemaps:Egg .\n",
    "            ?menuItem foodlemaps:hasRecipe ?recipe .\n",
    "    }\n",
    "\n",
    "\"\"\")\n",
    "\n",
    "sparql.setReturnFormat(JSON)\n",
    "results = sparql.query().convert()\n",
    "\n",
    "for result in results[\"results\"][\"bindings\"]:\n",
    "    print(result[\"restaurant\"][\"value\"] + \" -> \" + result[\"menuItem\"][\"value\"])"
   ]
  },
  {
   "cell_type": "markdown",
   "metadata": {},
   "source": [
    "## Fast restaurants\n",
    "We are in a hurry! We need a restaurant which can serve us a very fast dish. Let's see some of the fastest restaurants in our ontology."
   ]
  },
  {
   "cell_type": "code",
   "execution_count": 70,
   "metadata": {},
   "outputs": [
    {
     "name": "stdout",
     "output_type": "stream",
     "text": [
      "https://alexmv12.github.io/FoodleMaps/#La_Cantinetta_caprese can serve https://alexmv12.github.io/FoodleMaps/#Baba_al_rum in 3 minutes.\n",
      "https://alexmv12.github.io/FoodleMaps/#La_Cantinetta_caprese can serve https://alexmv12.github.io/FoodleMaps/#Vitello_tonnato in 6 minutes.\n"
     ]
    }
   ],
   "source": [
    "sparql.setQuery(\"\"\"\n",
    "    PREFIX schema: <http://schema.org/>\n",
    "    PREFIX foodlemaps: <https://alexmv12.github.io/FoodleMaps/#>\n",
    "    \n",
    "    SELECT ?restaurant ?menuItem ?preparationTime\n",
    "    WHERE { ?restaurant schema:hasMenu ?menu.\n",
    "            ?menu foodlemaps:servesRecipe ?recipe.\n",
    "            ?recipe foodlemaps:hasIngredient foodlemaps:Egg .\n",
    "            ?menuItem foodlemaps:hasRecipe ?recipe .\n",
    "            ?menuItem foodlemaps:hasPreparationTime ?preparationTime .\n",
    "            FILTER (?preparationTime < 10)\n",
    "    }\n",
    "\n",
    "\"\"\")\n",
    "\n",
    "sparql.setReturnFormat(JSON)\n",
    "results = sparql.query().convert()\n",
    "\n",
    "for result in results[\"results\"][\"bindings\"]:\n",
    "    print(result[\"restaurant\"][\"value\"] + \" can serve \" + result[\"menuItem\"][\"value\"] + \" in \" + result[\"preparationTime\"][\"value\"] + \" minutes.\")"
   ]
  },
  {
   "cell_type": "markdown",
   "metadata": {},
   "source": [
    "## Extra: user preferences\n",
    "The ontology also includes a set of classes which can be used to represent the preferences of a user.  \n",
    "For example, we may create a user which follows a vegetarian diet:"
   ]
  },
  {
   "cell_type": "code",
   "execution_count": 107,
   "metadata": {},
   "outputs": [
    {
     "name": "stdout",
     "output_type": "stream",
     "text": [
      "b'<html>\\n<head>\\n</head>\\n<body>\\n<h1>Success</h1>\\n<p>\\nUpdate succeeded\\n</p>\\n</body>\\n</html>\\n'\n"
     ]
    }
   ],
   "source": [
    "sparql.setHTTPAuth(DIGEST)\n",
    "sparql.setCredentials(\"admin\", \"insert_sparql_endpoint_password_here\")\n",
    "sparql.setMethod(POST)\n",
    "\n",
    "sparql.setQuery(\"\"\"\n",
    "    PREFIX schema: <http://schema.org/>\n",
    "    PREFIX foodlemaps: <https://alexmv12.github.io/FoodleMaps/#>\n",
    "    \n",
    "    INSERT DATA\n",
    "    { \n",
    "      foodlemaps:user0                       a foodlemaps:User ;\n",
    "                       foodlemaps:requiresDiet schema:VegetarianDiet .\n",
    "    }\n",
    "\"\"\")\n",
    "\n",
    "results = sparql.query()\n",
    "print(results.response.read())"
   ]
  },
  {
   "cell_type": "markdown",
   "metadata": {},
   "source": [
    "What are some of the dishes we can eat?"
   ]
  },
  {
   "cell_type": "code",
   "execution_count": 110,
   "metadata": {},
   "outputs": [
    {
     "name": "stdout",
     "output_type": "stream",
     "text": [
      "https://alexmv12.github.io/FoodleMaps/#La_Cantinetta_caprese -> https://alexmv12.github.io/FoodleMaps/#Baba_al_rum\n",
      "https://alexmv12.github.io/FoodleMaps/#Tavernacolo -> https://alexmv12.github.io/FoodleMaps/#Insalata_greca\n"
     ]
    }
   ],
   "source": [
    "sparql.setQuery(\"\"\"\n",
    "    PREFIX schema: <http://schema.org/>\n",
    "    PREFIX foodlemaps: <https://alexmv12.github.io/FoodleMaps/#>\n",
    "    \n",
    "    SELECT ?restaurant ?menuItem\n",
    "    WHERE { \n",
    "            foodlemaps:user0 foodlemaps:requiresDiet ?diet .\n",
    "            \n",
    "            ?restaurant schema:hasMenu ?menu .\n",
    "            ?menu foodlemaps:servesRecipe ?recipe.\n",
    "            ?menuItem foodlemaps:hasRecipe ?recipe .\n",
    "            ?recipe schema:suitableForDiet ?diet .            \n",
    "    }\n",
    "\n",
    "\"\"\")\n",
    "\n",
    "sparql.setReturnFormat(JSON)\n",
    "results = sparql.query().convert()\n",
    "\n",
    "for result in results[\"results\"][\"bindings\"]:\n",
    "    print(result[\"restaurant\"][\"value\"] + \" -> \" + result[\"menuItem\"][\"value\"] )"
   ]
  }
 ],
 "metadata": {
  "kernelspec": {
   "display_name": "FoodleMaps",
   "language": "python",
   "name": "foodlemaps"
  },
  "language_info": {
   "codemirror_mode": {
    "name": "ipython",
    "version": 3
   },
   "file_extension": ".py",
   "mimetype": "text/x-python",
   "name": "python",
   "nbconvert_exporter": "python",
   "pygments_lexer": "ipython3",
   "version": "3.8.5"
  }
 },
 "nbformat": 4,
 "nbformat_minor": 4
}
