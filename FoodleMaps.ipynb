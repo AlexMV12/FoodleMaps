{
 "cells": [
  {
   "cell_type": "markdown",
   "metadata": {},
   "source": [
    "# Foodle Maps"
   ]
  },
  {
   "cell_type": "markdown",
   "metadata": {},
   "source": [
    "This notebook gives practical examples of the potentiality of Foodle Maps.\n",
    "First, load the necessary packages to perform SPARQL queries:"
   ]
  },
  {
   "cell_type": "code",
   "execution_count": 1,
   "metadata": {},
   "outputs": [],
   "source": [
    "from SPARQLWrapper import SPARQLWrapper, JSON\n",
    "\n",
    "sparql = SPARQLWrapper(\"https://sparql.alexmv12.xyz/FoodleMaps\")"
   ]
  },
  {
   "cell_type": "markdown",
   "metadata": {},
   "source": [
    "Then, we can start with a simple query: show all the restaurants in the KB."
   ]
  },
  {
   "cell_type": "code",
   "execution_count": 2,
   "metadata": {},
   "outputs": [
    {
     "name": "stdout",
     "output_type": "stream",
     "text": [
      "https://alexmv12.github.io/FoodleMaps/#Trattoria_dell_orsa\n"
     ]
    }
   ],
   "source": [
    "sparql.setQuery(\"\"\"\n",
    "    PREFIX schema: <http://schema.org/>\n",
    "    \n",
    "    SELECT ?restaurant \n",
    "    WHERE { ?restaurant a schema:FoodEstablishment  }\n",
    "\"\"\")\n",
    "\n",
    "sparql.setReturnFormat(JSON)\n",
    "results = sparql.query().convert()\n",
    "\n",
    "for result in results[\"results\"][\"bindings\"]:\n",
    "    print(result[\"restaurant\"][\"value\"])"
   ]
  },
  {
   "cell_type": "markdown",
   "metadata": {},
   "source": [
    "... or, we want to see some of the available dishes."
   ]
  },
  {
   "cell_type": "code",
   "execution_count": 3,
   "metadata": {},
   "outputs": [
    {
     "name": "stdout",
     "output_type": "stream",
     "text": [
      "https://alexmv12.github.io/FoodleMaps/#Pasta_alla_carbonara\n",
      "https://alexmv12.github.io/FoodleMaps/#Filetto_al_pepe_verde\n",
      "https://alexmv12.github.io/FoodleMaps/#Merluzzo_alla_livornese\n",
      "https://alexmv12.github.io/FoodleMaps/#Pasta_al_pomodoro\n",
      "https://alexmv12.github.io/FoodleMaps/#Tiramisu\n"
     ]
    }
   ],
   "source": [
    "sparql.setQuery(\"\"\"\n",
    "    PREFIX schema: <http://schema.org/>\n",
    "    \n",
    "    SELECT ?dish \n",
    "    WHERE { ?dish a schema:MenuItem  }\n",
    "\"\"\")\n",
    "\n",
    "sparql.setReturnFormat(JSON)\n",
    "results = sparql.query().convert()\n",
    "\n",
    "for result in results[\"results\"][\"bindings\"]:\n",
    "    print(result[\"dish\"][\"value\"])"
   ]
  },
  {
   "cell_type": "code",
   "execution_count": null,
   "metadata": {},
   "outputs": [],
   "source": []
  }
 ],
 "metadata": {
  "kernelspec": {
   "display_name": "FoodleMaps",
   "language": "python",
   "name": "foodlemaps"
  },
  "language_info": {
   "codemirror_mode": {
    "name": "ipython",
    "version": 3
   },
   "file_extension": ".py",
   "mimetype": "text/x-python",
   "name": "python",
   "nbconvert_exporter": "python",
   "pygments_lexer": "ipython3",
   "version": "3.8.5"
  }
 },
 "nbformat": 4,
 "nbformat_minor": 4
}
